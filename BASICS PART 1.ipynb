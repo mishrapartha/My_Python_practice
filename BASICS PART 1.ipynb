{
 "cells": [
  {
   "cell_type": "markdown",
   "metadata": {},
   "source": [
    "# PART 1: print() function"
   ]
  },
  {
   "cell_type": "code",
   "execution_count": 1,
   "metadata": {},
   "outputs": [
    {
     "name": "stdout",
     "output_type": "stream",
     "text": [
      "Learn Python!!!\n"
     ]
    }
   ],
   "source": [
    "print('Learn Python!!!')"
   ]
  },
  {
   "cell_type": "code",
   "execution_count": 3,
   "metadata": {},
   "outputs": [
    {
     "name": "stdout",
     "output_type": "stream",
     "text": [
      "I am 20 years old.\n"
     ]
    }
   ],
   "source": [
    "age = 20\n",
    "\n",
    "print(f'I am {age} years old.')"
   ]
  },
  {
   "cell_type": "code",
   "execution_count": 5,
   "metadata": {},
   "outputs": [
    {
     "name": "stdout",
     "output_type": "stream",
     "text": [
      "I am learning Python version 3.8\n"
     ]
    }
   ],
   "source": [
    "my_topic ='Python'\n",
    "my_version = '3.8'\n",
    "print(f'I am learning {my_topic} version {my_version}')"
   ]
  },
  {
   "cell_type": "code",
   "execution_count": 6,
   "metadata": {},
   "outputs": [
    {
     "name": "stdout",
     "output_type": "stream",
     "text": [
      "This costs 199.99\n"
     ]
    }
   ],
   "source": [
    "price = 199.99\n",
    "print('This costs', price)"
   ]
  },
  {
   "cell_type": "code",
   "execution_count": 13,
   "metadata": {},
   "outputs": [
    {
     "name": "stdout",
     "output_type": "stream",
     "text": [
      "Price: $34.99. Weight: 20 lbs.\n"
     ]
    }
   ],
   "source": [
    "price = 34.99\n",
    "weight = 20\n",
    "\n",
    "print(f'Price: ${price}. Weight: {weight} lbs.')"
   ]
  },
  {
   "cell_type": "code",
   "execution_count": 14,
   "metadata": {},
   "outputs": [
    {
     "name": "stdout",
     "output_type": "stream",
     "text": [
      "Pi: 3.14\n"
     ]
    }
   ],
   "source": [
    "pi = 3.1415926535\n",
    "\n",
    "print(f'Pi: {round(pi, 2)}')"
   ]
  },
  {
   "cell_type": "code",
   "execution_count": 15,
   "metadata": {},
   "outputs": [
    {
     "name": "stdout",
     "output_type": "stream",
     "text": [
      "Pi: 3.14\n"
     ]
    }
   ],
   "source": [
    "pi = 3.1415926535\n",
    "print(f'Pi: {pi:.2f}')"
   ]
  },
  {
   "cell_type": "code",
   "execution_count": 16,
   "metadata": {},
   "outputs": [
    {
     "name": "stdout",
     "output_type": "stream",
     "text": [
      "----------------------------------------\n",
      "VERSION: 1.0.1\n",
      "----------------------------------------\n"
     ]
    }
   ],
   "source": [
    "print('-' * 40)\n",
    "print('VERSION: 1.0.1')\n",
    "print('-' * 40)"
   ]
  },
  {
   "cell_type": "code",
   "execution_count": 17,
   "metadata": {},
   "outputs": [
    {
     "name": "stdout",
     "output_type": "stream",
     "text": [
      "========================================\n",
      "author: johnsmith@sample.com\n",
      "date: 01-01-2021\n",
      "========================================\n"
     ]
    }
   ],
   "source": [
    "print('='* 40)\n",
    "print('author: johnsmith@sample.com')\n",
    "print('date: 01-01-2021')\n",
    "print('=' * 40)"
   ]
  },
  {
   "cell_type": "code",
   "execution_count": 20,
   "metadata": {},
   "outputs": [
    {
     "name": "stdout",
     "output_type": "stream",
     "text": [
      "summer#time#holiday\n"
     ]
    }
   ],
   "source": [
    "print('summer','time','holiday',sep='#')"
   ]
  },
  {
   "cell_type": "code",
   "execution_count": null,
   "metadata": {},
   "outputs": [],
   "source": []
  }
 ],
 "metadata": {
  "kernelspec": {
   "display_name": "Python 3",
   "language": "python",
   "name": "python3"
  },
  "language_info": {
   "codemirror_mode": {
    "name": "ipython",
    "version": 3
   },
   "file_extension": ".py",
   "mimetype": "text/x-python",
   "name": "python",
   "nbconvert_exporter": "python",
   "pygments_lexer": "ipython3",
   "version": "3.7.9"
  }
 },
 "nbformat": 4,
 "nbformat_minor": 4
}
